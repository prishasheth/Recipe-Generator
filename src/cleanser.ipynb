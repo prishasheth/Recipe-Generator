{
 "cells": [
  {
   "cell_type": "code",
   "execution_count": 3,
   "metadata": {},
   "outputs": [],
   "source": [
    "import tensorflow as tf\n",
    "import matplotlib.pyplot as plt\n",
    "import numpy as np\n",
    "import json\n",
    "import platform\n",
    "import time\n",
    "import pathlib\n",
    "import os\n",
    "from tqdm import tqdm"
   ]
  },
  {
   "cell_type": "code",
   "execution_count": 4,
   "metadata": {},
   "outputs": [],
   "source": [
    "# combine three files into one\n",
    "\n",
    "def combine_datasets():\n",
    "    file_names = ['recipes_raw_nosource_ar.json', 'recipes_raw_nosource_epi.json', 'recipes_raw_nosource_fn.json']\n",
    "    dataset = []\n",
    "    \n",
    "    path = os.getcwd()\n",
    "    os.chdir(\"../\")\n",
    "    for file in file_names:\n",
    "        with open(os.getcwd() + \"/recipes_data/\" + file) as data_file:\n",
    "            data_dict = json.load(data_file)\n",
    "            data_list = list(data_dict.values())\n",
    "            dataset += data_list\n",
    "    os.chdir(path)\n",
    "    return dataset\n",
    "\n",
    "raw_data = combine_datasets()"
   ]
  },
  {
   "cell_type": "code",
   "execution_count": 5,
   "metadata": {},
   "outputs": [],
   "source": [
    "# remove incomplete data\n",
    "def check_complete(recipe):\n",
    "    required_keys = ['title', 'ingredients', 'instructions']\n",
    "    \n",
    "    if not recipe:\n",
    "        return False\n",
    "    \n",
    "    for required_key in required_keys:\n",
    "        if not recipe[required_key]:\n",
    "            return False\n",
    "        elif type(recipe[required_key]) == list and len(recipe[required_key]) == 0:\n",
    "            return False\n",
    "    \n",
    "    return True\n",
    "\n",
    "full_data = [recipe for recipe in raw_data if check_complete(recipe)]"
   ]
  },
  {
   "cell_type": "code",
   "execution_count": 6,
   "metadata": {},
   "outputs": [],
   "source": [
    "# convert recipes to strings\n",
    "def create_recipe_string(recipe):\n",
    "    ingredients = \"\"\n",
    "    for i in recipe['ingredients']:\n",
    "        i = i.replace(\"ADVERTISEMENT\", \"\")\n",
    "        if i:\n",
    "            ingredients += \"- \" + i + \"\\n\"\n",
    "\n",
    "    instructions = \"\"\n",
    "    for i in recipe['instructions'].split('\\n'):\n",
    "        i = i.replace(\"ADVERTISEMENT\", \"\")\n",
    "        if i:\n",
    "            instructions += \"- \" + i + \"\\n\"\n",
    "\n",
    "    recipe_str = \"TITLE: \" + recipe['title']\n",
    "    recipe_str += \"\\n\\nINGREDIENTS:\\n\" + ingredients\n",
    "    recipe_str += \"\\nINSTRUCTIONS:\\n\" + instructions\n",
    "    return recipe_str\n",
    "\n",
    "string_data = [create_recipe_string(recipe) for recipe in full_data]"
   ]
  },
  {
   "cell_type": "code",
   "execution_count": 7,
   "metadata": {},
   "outputs": [],
   "source": [
    "# filter out long recipes\n",
    "filtered_data = []\n",
    "for recipe in string_data:\n",
    "    if len(recipe) <= 2012: # filter to about 100k recipes under this length\n",
    "        filtered_data.append(recipe)\n",
    "\n",
    "# save to file\n",
    "path = os.getcwd()\n",
    "os.chdir(\"../\")\n",
    "with open(os.getcwd() + \"/recipes_data/recipes_filtered.txt\", \"w\") as f:\n",
    "    for recipe in filtered_data:\n",
    "        line = recipe.replace(\"\\n\", \"~~\")\n",
    "        f.write(line + \"\\n\")\n",
    "os.chdir(path)"
   ]
  }
 ],
 "metadata": {
  "kernelspec": {
   "display_name": "SharpeRatio@3.7.3",
   "language": "python",
   "name": "python3"
  },
  "language_info": {
   "codemirror_mode": {
    "name": "ipython",
    "version": 3
   },
   "file_extension": ".py",
   "mimetype": "text/x-python",
   "name": "python",
   "nbconvert_exporter": "python",
   "pygments_lexer": "ipython3",
   "version": "3.10.10"
  },
  "orig_nbformat": 4,
  "vscode": {
   "interpreter": {
    "hash": "517a1f305077cc8c54816e38c7c22c5a833b9c5056a2cf61edaa616aae2934ec"
   }
  }
 },
 "nbformat": 4,
 "nbformat_minor": 2
}
